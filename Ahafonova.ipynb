{
 "cells": [
  {
   "cell_type": "markdown",
   "source": [
    "#Лаб. робота №1\r\n",
    "#студентки групи МІТ_31\r\n",
    "#Агафонової Мирослави\r\n",
    "\r\n",
    "#NumPy (створити набір даних (розмір за власним рішенням), провести CRUD операції над даними (скаляр, вектор, матриця)). Використати arange, random.\r\n"
   ],
   "metadata": {}
  },
  {
   "cell_type": "code",
   "execution_count": 3,
   "source": [
    "print(\"The first one task\", end=\"\\n\\n\")\r\n",
    "import numpy as np\r\n",
    "print(\"input some vars for array (arrange, random.randint, append, eye, eye delete)\")\r\n",
    "\r\n",
    "arr1 = np.array([5, 8, 9, 4])\r\n",
    "print(arr1)\r\n",
    "\r\n",
    "arr2 = np.arange(5, 8, 9)\r\n",
    "print(arr2) \r\n",
    "\r\n",
    "arr3 = np.random.randint(5, 8, 9)\r\n",
    "print(arr3)\r\n",
    "\r\n",
    "arr4 = np.append(arr1, arr2)\r\n",
    "print(arr4)\r\n",
    "\r\n",
    "arr_eye = np.eye(4)\r\n",
    "print(arr_eye)\r\n",
    "\r\n",
    "arr_eye = np.delete(arr_eye, 3, 0)\r\n",
    "print(arr_eye)\r\n",
    "\r\n",
    "print(\"some operations with scalar (multiply, power)\")\r\n",
    "\r\n",
    "arr1 = np.multiply(arr1, 0.6)\r\n",
    "print(arr1)\r\n",
    "arr2 = np.power(arr2, 3)\r\n",
    "print(arr2)\r\n",
    "\r\n",
    "print(\"some operations with vector (add, subtract)\")\r\n",
    "arr_common = np.add(arr1,arr2)\r\n",
    "arr_common1 = np.subtract(arr1,arr2)\r\n",
    "print(arr_common)\r\n",
    "print(arr_common1)\r\n"
   ],
   "outputs": [
    {
     "output_type": "stream",
     "name": "stdout",
     "text": [
      "The first one task\n",
      "\n",
      "input some vars for array (arrange, random.randint, append, eye, eye delete)\n",
      "[5 8 9 4]\n",
      "[5]\n",
      "[6 5 6 7 6 5 5 6 7]\n",
      "[5 8 9 4 5]\n",
      "[[1. 0. 0. 0.]\n",
      " [0. 1. 0. 0.]\n",
      " [0. 0. 1. 0.]\n",
      " [0. 0. 0. 1.]]\n",
      "[[1. 0. 0. 0.]\n",
      " [0. 1. 0. 0.]\n",
      " [0. 0. 1. 0.]]\n",
      "some operations with scalar (multiply, power)\n",
      "[3.  4.8 5.4 2.4]\n",
      "[125]\n",
      "some operations with vector (add, subtract)\n",
      "[128.  129.8 130.4 127.4]\n",
      "[-122.  -120.2 -119.6 -122.6]\n"
     ]
    }
   ],
   "metadata": {}
  },
  {
   "cell_type": "markdown",
   "source": [],
   "metadata": {}
  },
  {
   "cell_type": "markdown",
   "source": [
    "#Pandas (створити dataframe різними способами, провести маніпуляції з даними (head, describe, iloc, loc ...))"
   ],
   "metadata": {}
  },
  {
   "cell_type": "code",
   "execution_count": 4,
   "source": [
    "print(\"The second one task\", end=\"\\n\\n\")\r\n",
    "import pandas as pd\r\n",
    "\r\n",
    "print(\"The first method\")\r\n",
    "\r\n",
    "\r\n",
    "dframe2 = pd.DataFrame(np.random.randint(0, 10, (5, 5)), columns=[\"1\", \"2\", \"3\", \"3\", \"5\"])\r\n",
    "print(dframe2)\r\n",
    "print(dframe2.describe(include='all'))"
   ],
   "outputs": [
    {
     "output_type": "stream",
     "name": "stdout",
     "text": [
      "The second one task\n",
      "\n",
      "The first method\n",
      "   1  2  3  3  5\n",
      "0  7  4  2  7  5\n",
      "1  5  0  3  4  6\n",
      "2  7  5  8  0  3\n",
      "3  6  6  9  2  1\n",
      "4  1  9  5  3  8\n",
      "             1         2        3         3         5\n",
      "count  5.00000  5.000000  5.00000  5.000000  5.000000\n",
      "mean   5.20000  4.800000  5.40000  3.200000  4.600000\n",
      "std    2.48998  3.271085  3.04959  2.588436  2.701851\n",
      "min    1.00000  0.000000  2.00000  0.000000  1.000000\n",
      "25%    5.00000  4.000000  3.00000  2.000000  3.000000\n",
      "50%    6.00000  5.000000  5.00000  3.000000  5.000000\n",
      "75%    7.00000  6.000000  8.00000  4.000000  6.000000\n",
      "max    7.00000  9.000000  9.00000  7.000000  8.000000\n"
     ]
    }
   ],
   "metadata": {}
  },
  {
   "cell_type": "code",
   "execution_count": 3,
   "source": [
    "print(\"The second method\")\r\n",
    "import pandas as pd\r\n",
    "\r\n",
    "dframe1 = pd.read_csv('data.csv')\r\n",
    "print(dframe1, end=\"\\n\\n\")\r\n",
    "print(dframe1.head(), end=\"\\n\\n\")\r\n",
    "print(dframe1.describe(), end=\"\\n\\n\")\r\n",
    "print(dframe1.info(), end=\"\\n\\n\")\r\n",
    "print(dframe1.iloc[2])\r\n",
    "dframe1 = pd.DataFrame(dframe1, index=['0', '1', '2', '3'])\r\n",
    "print(dframe1.loc['2'], end=\"\\n\\n\")\r\n",
    "\r\n",
    "\r\n"
   ],
   "outputs": [
    {
     "output_type": "stream",
     "name": "stdout",
     "text": [
      "The second method\n",
      "  Дата \\nоперації Час \\nоперації  Сума в валюті \\nрахунку  \\\n",
      "0      24.09.2021       15:10:29                 -1320.00   \n",
      "1      24.09.2021       15:10:07                 -1571.50   \n",
      "2      24.09.2021       14:34:20                100500.00   \n",
      "3      25.08.2021       18:47:12                100500.00   \n",
      "4      25.08.2021       16:24:52                 -1714.28   \n",
      "5      25.08.2021       16:04:09                100500.00   \n",
      "6      25.08.2021       15:18:51                 -1320.00   \n",
      "7      25.08.2021       15:18:12                  -758.00   \n",
      "\n",
      "   Сума в валюті \\nоперації Валюта операції  \\\n",
      "0                  -1320.00             UAH   \n",
      "1                  -1571.50             UAH   \n",
      "2                 100500.00             UAH   \n",
      "3                 -15000.00             UAH   \n",
      "4                  -1714.28             UAH   \n",
      "5                  13792.28             UAH   \n",
      "6                  -1320.00             UAH   \n",
      "7                   -758.00             UAH   \n",
      "\n",
      "   Залишок після \\nоперації в валюті \\nрахунку  \n",
      "0                                       100500  \n",
      "1                                       100500  \n",
      "2                                       100500  \n",
      "3                                            0  \n",
      "4                                       100500  \n",
      "5                                       100500  \n",
      "6                                         2922  \n",
      "7                                         4242  \n",
      "\n",
      "  Дата \\nоперації Час \\nоперації  Сума в валюті \\nрахунку  \\\n",
      "0      24.09.2021       15:10:29                 -1320.00   \n",
      "1      24.09.2021       15:10:07                 -1571.50   \n",
      "2      24.09.2021       14:34:20                100500.00   \n",
      "3      25.08.2021       18:47:12                100500.00   \n",
      "4      25.08.2021       16:24:52                 -1714.28   \n",
      "\n",
      "   Сума в валюті \\nоперації Валюта операції  \\\n",
      "0                  -1320.00             UAH   \n",
      "1                  -1571.50             UAH   \n",
      "2                 100500.00             UAH   \n",
      "3                 -15000.00             UAH   \n",
      "4                  -1714.28             UAH   \n",
      "\n",
      "   Залишок після \\nоперації в валюті \\nрахунку  \n",
      "0                                       100500  \n",
      "1                                       100500  \n",
      "2                                       100500  \n",
      "3                                            0  \n",
      "4                                       100500  \n",
      "\n",
      "       Сума в валюті \\nрахунку  Сума в валюті \\nоперації  \\\n",
      "count                 8.000000                   8.00000   \n",
      "mean              36852.027500               11576.06250   \n",
      "std               52706.251032               36747.98913   \n",
      "min               -1714.280000              -15000.00000   \n",
      "25%               -1382.875000               -1607.19500   \n",
      "50%               -1039.000000               -1320.00000   \n",
      "75%              100500.000000                2879.57000   \n",
      "max              100500.000000              100500.00000   \n",
      "\n",
      "       Залишок після \\nоперації в валюті \\nрахунку  \n",
      "count                                     8.000000  \n",
      "mean                                  63708.000000  \n",
      "std                                   50791.040459  \n",
      "min                                       0.000000  \n",
      "25%                                    3912.000000  \n",
      "50%                                  100500.000000  \n",
      "75%                                  100500.000000  \n",
      "max                                  100500.000000  \n",
      "\n",
      "<class 'pandas.core.frame.DataFrame'>\n",
      "RangeIndex: 8 entries, 0 to 7\n",
      "Data columns (total 6 columns):\n",
      " #   Column                                     Non-Null Count  Dtype  \n",
      "---  ------                                     --------------  -----  \n",
      " 0   Дата \n",
      "операції                             8 non-null      object \n",
      " 1   Час \n",
      "операції                              8 non-null      object \n",
      " 2   Сума в валюті \n",
      "рахунку                     8 non-null      float64\n",
      " 3   Сума в валюті \n",
      "операції                    8 non-null      float64\n",
      " 4   Валюта операції                            8 non-null      object \n",
      " 5   Залишок після \n",
      "операції в валюті \n",
      "рахунку  8 non-null      int64  \n",
      "dtypes: float64(2), int64(1), object(3)\n",
      "memory usage: 512.0+ bytes\n",
      "None\n",
      "\n",
      "Дата \\nоперації                                24.09.2021\n",
      "Час \\nоперації                                   14:34:20\n",
      "Сума в валюті \\nрахунку                          100500.0\n",
      "Сума в валюті \\nоперації                         100500.0\n",
      "Валюта операції                                       UAH\n",
      "Залишок після \\nоперації в валюті \\nрахунку        100500\n",
      "Name: 2, dtype: object\n",
      "Дата \\nоперації                                NaN\n",
      "Час \\nоперації                                 NaN\n",
      "Сума в валюті \\nрахунку                        NaN\n",
      "Сума в валюті \\nоперації                       NaN\n",
      "Валюта операції                                NaN\n",
      "Залишок після \\nоперації в валюті \\nрахунку    NaN\n",
      "Name: 2, dtype: object\n",
      "\n"
     ]
    }
   ],
   "metadata": {}
  },
  {
   "cell_type": "code",
   "execution_count": 6,
   "source": [
    "\r\n",
    "print(\"The third method\")\r\n",
    "\r\n",
    "d = [{'a': \"one\", 'b': \"two\", 'c': \"three\", 'd': \"four\"},\r\n",
    "     {'a': 100, 'b': 200, 'c': 300, 'd': 400},\r\n",
    "     {'a': 1000, 'b': 2000, 'c': 3000, 'd': 4000}]\r\n",
    "df3 = pd.DataFrame(d, index=[\"a1\", \"b2\", \"c3\"])\r\n",
    "print(df3, end=\"\\n\\n\")\r\n",
    "print(df3.iloc[[True, False, True]], end=\"\\n\\n\")\r\n",
    "print(df3.iloc[[0,2]], end=\"\\n\\n\")\r\n",
    "print(df3.loc[[\"c3\"]], end=\"\\n\\n\")"
   ],
   "outputs": [
    {
     "output_type": "stream",
     "name": "stdout",
     "text": [
      "The third method\n",
      "       a     b      c     d\n",
      "a1   one   two  three  four\n",
      "b2   100   200    300   400\n",
      "c3  1000  2000   3000  4000\n",
      "\n",
      "       a     b      c     d\n",
      "a1   one   two  three  four\n",
      "c3  1000  2000   3000  4000\n",
      "\n",
      "       a     b      c     d\n",
      "a1   one   two  three  four\n",
      "c3  1000  2000   3000  4000\n",
      "\n",
      "       a     b     c     d\n",
      "c3  1000  2000  3000  4000\n",
      "\n"
     ]
    }
   ],
   "metadata": {}
  },
  {
   "cell_type": "markdown",
   "source": [
    "#Matplotlib (створити набір даних лінійної функції з урахуванням помилок вимірювань, побудувати графік функції та згенерованих даних, обчислити #похибку з використанням метрик MAE, MSE). Записати отримані результати у csv файл (формат: X,Y, Y_hat, mAE, mSE)"
   ],
   "metadata": {}
  },
  {
   "cell_type": "code",
   "execution_count": 9,
   "source": [
    "print(\"The third one task\", end=\"\\n\\n\")\r\n",
    "\r\n",
    "print(\"Graph\", end=\"\\n\\n\")\r\n",
    "\r\n",
    "import matplotlib.pyplot as plt\r\n",
    "import sklearn.metrics as metrics\r\n",
    "\r\n",
    "x = np.arange(0, 16, 2)\r\n",
    "y1 = x * 1.5\r\n",
    "\r\n",
    "adder = np.random.random(len(x)) * 1.4 - 0.7\r\n",
    "y2 = y1 + adder\r\n",
    "\r\n",
    "plt.figure()\r\n",
    "plt.grid()\r\n",
    "plt.xticks(x)\r\n",
    "plt.yticks(range(int(x[-1] * 1.5 + 1)))\r\n",
    "plt.xlabel('X Axis')\r\n",
    "plt.ylabel('Y Axis')\r\n",
    "\r\n",
    "plt.plot(x, y1, \"r--\", label=\"teoretic\")\r\n",
    "plt.plot(x, y2, \"b\", label=\"result\")\r\n",
    "\r\n",
    "plt.legend()\r\n",
    "plt.show()\r\n",
    "\r\n",
    "\r\n",
    "print(\"inaccuracy\", end=\"\\n\\n\")\r\n",
    "mae = metrics.mean_absolute_error(y2, y1)\r\n",
    "mse = metrics.mean_squared_error(y2, y1)\r\n",
    "print(mae)\r\n",
    "print(mse)\r\n",
    "\r\n",
    "print(\"Output in csv\", end=\"\\n\\n\")\r\n",
    "df = pd.DataFrame(np.array([x, y2, y1]).swapaxes(0,1), columns=['X', 'Y', 'Y_hat'])\r\n",
    "print(df)\r\n",
    "with open('data_output.csv', 'w') as f:\r\n",
    "    f.write(df.to_csv(index=False))"
   ],
   "outputs": [
    {
     "output_type": "stream",
     "name": "stdout",
     "text": [
      "The third one task\n",
      "\n",
      "Graph\n",
      "\n"
     ]
    },
    {
     "output_type": "display_data",
     "data": {
      "image/png": "[encoded data removed]",
      "text/plain": [
       "<Figure size 432x288 with 1 Axes>"
      ]
     },
     "metadata": {
      "needs_background": "light"
     }
    },
    {
     "output_type": "stream",
     "name": "stdout",
     "text": [
      "inaccuracy\n",
      "\n",
      "0.2505342548356227\n",
      "0.0893572672168904\n",
      "Output in csv\n",
      "\n",
      "      X          Y  Y_hat\n",
      "0   0.0  -0.623203    0.0\n",
      "1   2.0   3.195208    3.0\n",
      "2   4.0   6.234167    6.0\n",
      "3   6.0   9.275026    9.0\n",
      "4   8.0  12.217266   12.0\n",
      "5  10.0  15.058564   15.0\n",
      "6  12.0  17.683551   18.0\n",
      "7  14.0  21.084390   21.0\n"
     ]
    }
   ],
   "metadata": {}
  },
  {
   "cell_type": "code",
   "execution_count": 12,
   "source": [
    "x = np.random.randint(0, 100, 20)\r\n",
    "y = np.random.randint(0, 100, 20)\r\n",
    "plt.scatter(x,y)"
   ],
   "outputs": [
    {
     "output_type": "execute_result",
     "data": {
      "text/plain": [
       "<matplotlib.collections.PathCollection at 0x139b7b58e20>"
      ]
     },
     "metadata": {},
     "execution_count": 12
    },
    {
     "output_type": "display_data",
     "data": {
      "image/png": "[encoded data removed]",
      "text/plain": [
       "<Figure size 432x288 with 1 Axes>"
      ]
     },
     "metadata": {
      "needs_background": "light"
     }
    }
   ],
   "metadata": {}
  }
 ],
 "metadata": {
  "orig_nbformat": 4,
  "language_info": {
   "name": "python",
   "version": "3.8.8",
   "mimetype": "text/x-python",
   "codemirror_mode": {
    "name": "ipython",
    "version": 3
   },
   "pygments_lexer": "ipython3",
   "nbconvert_exporter": "python",
   "file_extension": ".py"
  },
  "kernelspec": {
   "name": "python3",
   "display_name": "Python 3.8.8 64-bit ('base': conda)"
  },
  "interpreter": {
   "hash": "3a9ef25502bec08697e2bc7b9d2a63161dc9e40fb01ed92a4c8c51434a7b7b29"
  }
 },
 "nbformat": 4,
 "nbformat_minor": 2
}